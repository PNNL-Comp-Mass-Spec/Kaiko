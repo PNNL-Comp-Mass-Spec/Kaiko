{
 "cells": [
  {
   "cell_type": "markdown",
   "metadata": {},
   "source": [
    "# Pickle for MGF files\n",
    "\n",
    "Because DeepNovo runs on Python 2.7, we can't use pickle protocol = 4 (larger file) and deepdish package for HDF5. Instead, let's use cPickle."
   ]
  },
  {
   "cell_type": "code",
   "execution_count": 1,
   "metadata": {},
   "outputs": [],
   "source": [
    "import pandas as pd\n",
    "from read_mgf import read_mgf\n",
    "import cPickle as pickle\n",
    "\n",
    "dataset = read_mgf('/Volumes/MSSHARE/Joonyong/KAIKO_Data/Original_mgf/Alverdy_Efae_1A_lys_13Jul13_Pippin_12-12-39.mgf')"
   ]
  },
  {
   "cell_type": "code",
   "execution_count": 19,
   "metadata": {},
   "outputs": [],
   "source": [
    "list_data = []\n",
    "list_labels = []\n",
    "for d in dataset:\n",
    "#     temp = []\n",
    "#     temp.append(d[0])\n",
    "#     temp.append(d[1])\n",
    "#     temp.append(d[2])\n",
    "#     temp.append(d[3])\n",
    "#     temp.append(','.join([str(s) for s in d[2]]) + ';' + ','.join([str(s) for s in d[3]]))\n",
    "#     list_data.append(temp)\n",
    "    list_data.append(list(d[0:4]))\n",
    "    list_labels.append(','.join(d[4]))\n",
    "df_data = pd.DataFrame(list_data)\n",
    "df_labels = pd.DataFrame(list_labels)\n",
    "\n",
    "pickle.dump({'data': list_data, 'labels': list_labels}, open('test.p', 'wb'), protocol=2)"
   ]
  },
  {
   "cell_type": "code",
   "execution_count": 20,
   "metadata": {},
   "outputs": [],
   "source": [
    "tt = pickle.load(open('test.p', 'rb'))"
   ]
  },
  {
   "cell_type": "code",
   "execution_count": 21,
   "metadata": {},
   "outputs": [
    {
     "name": "stdout",
     "output_type": "stream",
     "text": [
      "16181\n",
      "16181\n",
      "['221', 1235.6091463081511, [110.07174682617188, 111.04458618164062, 113.96411895751953, 115.07553100585938, 117.1965103149414, 118.31407928466797, 129.05459594726562, 129.10260009765625, 130.0863037109375, 130.10647583007812, 147.065185546875, 147.1128692626953, 155.0811309814453, 155.1179962158203, 166.08627319335938, 171.0057373046875, 173.0926513671875, 183.11277770996094, 189.01568603515625, 189.31846618652344, 200.1039581298828, 204.13548278808594, 210.51699829101562, 246.65737915039062, 247.11166381835938, 253.56275939941406, 264.87298583984375, 266.160888671875, 266.8697204589844, 267.1642761230469, 274.6694641113281, 275.1254577636719, 282.8830261230469, 283.177001953125, 287.1271667480469, 301.1424560546875, 301.1876220703125, 302.1909484863281, 315.3797302246094, 318.88629150390625, 327.0787658691406, 328.08355712890625, 337.85003662109375, 348.1258239746094, 356.89581298828125, 370.129638671875, 379.17352294921875, 394.84136962890625, 395.7189636230469, 403.2162170410156, 411.27056884765625, 411.8033142089844, 411.854248046875, 412.8006896972656, 412.8529357910156, 413.26641845703125, 413.84930419921875, 429.2838439941406, 477.7492370605469, 486.7538757324219, 495.7597961425781, 506.7698059082031, 528.2724609375, 537.2788696289062, 537.7803955078125, 538.2899780273438, 560.2725830078125, 566.3400268554688, 567.3411865234375, 569.278564453125, 569.7806396484375, 645.2808837890625, 672.3131713867188, 742.4340209960938, 773.371337890625], [8420.3125, 2333.017822265625, 587.1155395507812, 997.5377807617188, 682.763671875, 613.0333862304688, 3090.666015625, 8042.37353515625, 1092.1029052734375, 629.0514526367188, 1076.1959228515625, 865.6332397460938, 903.3607177734375, 1428.4859619140625, 10417.7744140625, 881.8269653320312, 2660.095947265625, 2672.45068359375, 775.4421997070312, 705.9712524414062, 882.0010375976562, 3084.102783203125, 623.54638671875, 553.1649780273438, 765.4901123046875, 679.502685546875, 13109.6640625, 5293.2373046875, 723.4147338867188, 759.2702026367188, 1137.56396484375, 1299.18408203125, 5638.328125, 2918.1689453125, 680.9771728515625, 11801.1640625, 10331.46875, 1123.77783203125, 596.6090698242188, 2392.184326171875, 807.831787109375, 4445.2578125, 750.2470703125, 778.2550659179688, 803.7376098632812, 2741.05322265625, 1234.080078125, 1289.979736328125, 1009.0844116210938, 759.2432861328125, 1216.72607421875, 2517.43896484375, 12367.67578125, 846.1937866210938, 12282.96875, 52864.9609375, 3976.643310546875, 2590.541748046875, 1152.0263671875, 1205.9437255859375, 2763.11865234375, 952.3944702148438, 888.2158203125, 2132.643310546875, 2469.086181640625, 740.6475219726562, 981.7689208984375, 1453.7655029296875, 968.0203857421875, 2777.255859375, 793.0888061523438, 792.5220336914062, 949.7754516601562, 725.09521484375, 894.7064819335938]]\n",
      "V,Mmod,E,A,S,H,H,K,P,G,K\n"
     ]
    }
   ],
   "source": [
    "print(len(tt['data']))\n",
    "print(len(tt['labels']))\n",
    "print(tt['data'][0])\n",
    "print(tt['labels'][0])"
   ]
  },
  {
   "cell_type": "markdown",
   "metadata": {},
   "source": [
    "# generate pickles for MGF files"
   ]
  },
  {
   "cell_type": "code",
   "execution_count": 13,
   "metadata": {},
   "outputs": [],
   "source": [
    "import glob\n",
    "\n",
    "mgf_files = glob.glob('/Volumes/MSSHARE/Joonyong/KAIKO_Data/Original_mgf/*.mgf')"
   ]
  },
  {
   "cell_type": "code",
   "execution_count": 15,
   "metadata": {},
   "outputs": [
    {
     "data": {
      "text/plain": [
       "258"
      ]
     },
     "execution_count": 15,
     "metadata": {},
     "output_type": "execute_result"
    }
   ],
   "source": [
    "len(mgf_files)"
   ]
  },
  {
   "cell_type": "markdown",
   "metadata": {},
   "source": [
    "# verify pickles"
   ]
  },
  {
   "cell_type": "code",
   "execution_count": 1,
   "metadata": {},
   "outputs": [
    {
     "name": "stdout",
     "output_type": "stream",
     "text": [
      "vocab_reverse  ['_PAD', '_GO', '_EOS', 'A', 'R', 'N', 'Nmod', 'D', 'Cmod', 'E', 'Q', 'Qmod', 'G', 'H', 'I', 'L', 'K', 'M', 'Mmod', 'F', 'P', 'S', 'T', 'W', 'Y', 'V']\n",
      "vocab  {'_GO': 1, '_EOS': 2, '_PAD': 0, 'Mmod': 18, 'A': 3, 'E': 9, 'D': 7, 'G': 12, 'F': 19, 'I': 14, 'H': 13, 'K': 16, 'M': 17, 'L': 15, 'Nmod': 6, 'N': 5, 'Q': 10, 'P': 20, 'S': 21, 'R': 4, 'T': 22, 'W': 23, 'V': 25, 'Y': 24, 'Cmod': 8, 'Qmod': 11}\n",
      "vocab_size  26\n",
      "SPECTRUM_RESOLUTION  10\n",
      "MAX_LEN  30\n",
      "_buckets  [12, 22, 32]\n",
      "num_ion  8\n",
      "l2_loss_weight  0.0\n",
      "epoch_stop  30\n",
      "WINDOW_SIZE  30\n",
      "embedding_size  512\n",
      "num_layers  1\n",
      "num_units  512\n",
      "keep_conv  0.75\n",
      "keep_dense  0.5\n",
      "batch_size  128\n",
      "train_stack_size  4500\n",
      "valid_stack_size  15000\n",
      "test_stack_size  4000\n",
      "buffer_size  4000\n",
      "steps_per_checkpoint  100\n",
      "random_test_batches  10\n",
      "max_gradient_norm  5.0\n",
      "learning_rate  0.001\n",
      "test_pickle()\n",
      "('mgf files\\n', ['/Volumes/MSSHARE/Joonyong/KAIKO_Data/Original_mgf/Biodiversity_A_cryptum_FeTSB_anaerobic_1_01Jun16_Pippin_16-03-39.mgf', '/Volumes/MSSHARE/Joonyong/KAIKO_Data/Original_mgf/Biodiversity_A_cryptum_FeTSB_anaerobic_2_01Jun16_Pippin_16-03-39.mgf', '/Volumes/MSSHARE/Joonyong/KAIKO_Data/Original_mgf/Biodiversity_A_cryptum_FeTSB_anaerobic_3_01Jun16_Pippin_16-03-39.mgf'])\n",
      "('pkl files\\n', ['/Volumes/MSSHARE/Joonyong/KAIKO_Data/Original_mgf/Biodiversity_A_cryptum_FeTSB_anaerobic_1_01Jun16_Pippin_16-03-39.p', '/Volumes/MSSHARE/Joonyong/KAIKO_Data/Original_mgf/Biodiversity_A_cryptum_FeTSB_anaerobic_2_01Jun16_Pippin_16-03-39.p', '/Volumes/MSSHARE/Joonyong/KAIKO_Data/Original_mgf/Biodiversity_A_cryptum_FeTSB_anaerobic_3_01Jun16_Pippin_16-03-39.p'])\n",
      "inspect_files_locations()\n",
      "inspect_file_location(), input_file =  /Volumes/MSSHARE/Joonyong/KAIKO_Data/Original_mgf/Biodiversity_A_cryptum_FeTSB_anaerobic_1_01Jun16_Pippin_16-03-39.mgf\n",
      "inspect_file_location(), input_file =  /Volumes/MSSHARE/Joonyong/KAIKO_Data/Original_mgf/Biodiversity_A_cryptum_FeTSB_anaerobic_2_01Jun16_Pippin_16-03-39.mgf\n",
      "inspect_file_location(), input_file =  /Volumes/MSSHARE/Joonyong/KAIKO_Data/Original_mgf/Biodiversity_A_cryptum_FeTSB_anaerobic_3_01Jun16_Pippin_16-03-39.mgf\n"
     ]
    }
   ],
   "source": [
    "import deepnovo_config\n",
    "import deepnovo_main_modules\n",
    "import numpy as np\n",
    "\n",
    "file_index = [0,1,2]\n",
    "\n",
    "print(\"test_pickle()\")\n",
    "mgf_files = deepnovo_main_modules.read_mgf_list_file('/Volumes/MSSHARE/Joonyong/mgf_list_v3.log')\n",
    "mgf_dir = '/Volumes/MSSHARE/Joonyong/KAIKO_Data/Original_mgf/'\n",
    "pkl_dir = '/Volumes/MSSHARE/Joonyong/KAIKO_Data/Original_mgf/'\n",
    "\n",
    "input_mgf = [mgf_dir+mgf_files[i]+'.mgf' for i in file_index]\n",
    "input_pkl = [pkl_dir+mgf_files[i]+'.p' for i in file_index]\n",
    "\n",
    "print(\"mgf files\\n\", input_mgf)\n",
    "print(\"pkl files\\n\", input_pkl)\n",
    "\n",
    "# Inspect spectra_file_location\n",
    "file_index_mgf, spectra_file_locations = deepnovo_main_modules.inspect_files_locations(\n",
    "  'mgf',\n",
    "  input_mgf)"
   ]
  },
  {
   "cell_type": "code",
   "execution_count": 61,
   "metadata": {},
   "outputs": [
    {
     "name": "stdout",
     "output_type": "stream",
     "text": [
      "read_spectra_from_multiple_files()\n",
      "  total peptide read 892\n",
      "  total peptide skipped 108\n",
      "  total peptide skipped by mod 0\n",
      "  total peptide skipped by unknown AA 6\n",
      "  total peptide skipped by len 0\n",
      "  total peptide skipped by mass 102\n",
      "  total peptide skipped by mass precision 0\n",
      "  average #peaks per spectrum 188.9\n",
      "  average peptide length 17.2\n",
      "('processing time:', 38.562033891677856)\n"
     ]
    }
   ],
   "source": [
    "# read RANDOM stacks\n",
    "import random\n",
    "\n",
    "stack_size = 1000\n",
    "random_idx = random.sample(xrange(file_index_mgf[1][-1]), min(stack_size, file_index_mgf[1][-1]))\n",
    "random_locations = []\n",
    "f_idx = np.array(file_index_mgf[1])\n",
    "for i in random_idx:\n",
    "    idx = np.where((f_idx > i))[0][0]\n",
    "    filename = file_index_mgf[0][idx]\n",
    "    random_locations.append([idx, spectra_file_locations[i]])\n",
    "\n",
    "import time\n",
    "start = time.time()\n",
    "data_set, set_len, scans = deepnovo_main_modules.read_spectra_from_multiple_files('mgf', file_index_mgf[0], random_locations)\n",
    "end = time.time()\n",
    "print('processing time:', (end-start))"
   ]
  },
  {
   "cell_type": "code",
   "execution_count": 68,
   "metadata": {},
   "outputs": [],
   "source": [
    "import cPickle\n",
    "\n",
    "all_spectra = []\n",
    "all_sequence = []\n",
    "for i,p in enumerate(input_pkl):\n",
    "    temp = cPickle.load(open(p, 'rb'))\n",
    "    all_spectra.append(temp['data'])\n",
    "    all_sequence.append(temp['labels'])"
   ]
  },
  {
   "cell_type": "code",
   "execution_count": 79,
   "metadata": {},
   "outputs": [
    {
     "name": "stdout",
     "output_type": "stream",
     "text": [
      "[6659, 15191, 22570]\n",
      "[6659, 8532, 7379]\n",
      "(22065, 2, 6874)\n",
      "(14509, 1, 7850)\n",
      "(12514, 1, 5855)\n",
      "(4534, 0, 4534)\n",
      "(10081, 1, 3422)\n",
      "(21782, 2, 6591)\n",
      "(17231, 2, 2040)\n",
      "(19397, 2, 4206)\n",
      "(18042, 2, 2851)\n",
      "(9327, 1, 2668)\n",
      "(22569, 2, 7378)\n",
      "(0, 0, 0)\n"
     ]
    }
   ],
   "source": [
    "num_spectra = []\n",
    "count = 0\n",
    "for k in all_spectra:\n",
    "    count = count + len(k)\n",
    "    num_spectra.append(count)\n",
    "print(num_spectra)\n",
    "print([len(k) for k in all_spectra])\n",
    "random_idx = random.sample(xrange(num_spectra[-1]), min(10, num_spectra[-1]))\n",
    "f_idx = np.array(num_spectra)\n",
    "for i in random_idx+[22569,0]:\n",
    "    idx = np.where((f_idx > i))[0][0]\n",
    "    if idx == 0:\n",
    "        print(i, idx, i)\n",
    "    else:\n",
    "        print(i, idx, i-num_spectra[idx-1])"
   ]
  },
  {
   "cell_type": "code",
   "execution_count": 62,
   "metadata": {},
   "outputs": [],
   "source": [
    "scans_for_files = dict()\n",
    "for i in file_index:\n",
    "    scans_for_files[i] = [k[0] for k in all_spectra[i]]\n",
    "\n",
    "spectra_locations = []\n",
    "for s in scans:\n",
    "    token = s.split(':')\n",
    "    i = int(token[0])\n",
    "    try:\n",
    "        spectra_locations.append([i, scans_for_files[i].index(token[1])])\n",
    "    except:\n",
    "        continue\n",
    "# spectra_locations"
   ]
  },
  {
   "cell_type": "code",
   "execution_count": null,
   "metadata": {},
   "outputs": [],
   "source": []
  },
  {
   "cell_type": "code",
   "execution_count": 63,
   "metadata": {},
   "outputs": [
    {
     "name": "stdout",
     "output_type": "stream",
     "text": [
      "read_spectra_from_multiple_pickles()\n",
      "  total peptide read 892\n",
      "  total peptide skipped 0\n",
      "  total peptide skipped by mod 0\n",
      "  total peptide skipped by unknown AA 0\n",
      "  total peptide skipped by len 0\n",
      "  total peptide skipped by mass 0\n",
      "  total peptide skipped by mass precision 0\n",
      "  average #peaks per spectrum 188.9\n",
      "  average peptide length 17.2\n",
      "('processing time:', 2.480376958847046)\n"
     ]
    }
   ],
   "source": [
    "# spectra_locations = [[1,1999],[0,1586],[1,4729],[0,354],[1,8313]]\n",
    "start = time.time()\n",
    "data_set_pkl, set_len_pkl = deepnovo_main_modules.read_spectra_from_multiple_pickles(all_spectra, all_sequence, spectra_locations)\n",
    "end = time.time()\n",
    "print('processing time:', (end-start))"
   ]
  },
  {
   "cell_type": "markdown",
   "metadata": {},
   "source": [
    "## compare data_set_pkl and data_set"
   ]
  },
  {
   "cell_type": "code",
   "execution_count": 64,
   "metadata": {},
   "outputs": [
    {
     "name": "stdout",
     "output_type": "stream",
     "text": [
      "('is it equal?', True)\n"
     ]
    }
   ],
   "source": [
    "for bucket in range(3):\n",
    "    for j in range(len(data_set_pkl[bucket])):\n",
    "        for i in range(5):\n",
    "            equal = (np.array(data_set_pkl[bucket][j][i])==np.array(data_set[bucket][j][i])).all()\n",
    "            if not equal:\n",
    "                print('not equal')\n",
    "                break\n",
    "#         print(data_set_pkl[bucket][j][3])\n",
    "#         print(data_set[bucket][j][3])\n",
    "#         print(data_set_pkl[bucket][j][4])\n",
    "#         print(data_set[bucket][j][4])\n",
    "print('is it equal?', equal)"
   ]
  }
 ],
 "metadata": {
  "kernelspec": {
   "display_name": "Python [conda env:deepnovo]",
   "language": "python",
   "name": "conda-env-deepnovo-py"
  },
  "language_info": {
   "codemirror_mode": {
    "name": "ipython",
    "version": 2
   },
   "file_extension": ".py",
   "mimetype": "text/x-python",
   "name": "python",
   "nbconvert_exporter": "python",
   "pygments_lexer": "ipython2",
   "version": "2.7.14"
  }
 },
 "nbformat": 4,
 "nbformat_minor": 2
}
