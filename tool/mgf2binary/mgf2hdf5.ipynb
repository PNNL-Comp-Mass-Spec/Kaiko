{
 "cells": [
  {
   "cell_type": "markdown",
   "metadata": {},
   "source": [
    "# HDF5 for MGF files\n",
    "To avoid multiple MGF file accesses, we create a huge HDF5 file containing all MGF files. For testing, we created a small subset of all datasets.\n",
    "## format\n",
    "data: [filename],[scanid], [precursor mass],[mz,mz,...],[intensity,intensity,...]\n",
    "labels: peptide sequences (one string)\n",
    "## Notes!!\n",
    "For python 2.7, we use protocol=0"
   ]
  },
  {
   "cell_type": "code",
   "execution_count": 1,
   "metadata": {},
   "outputs": [],
   "source": [
    "from read_mgf import read_mgf"
   ]
  },
  {
   "cell_type": "code",
   "execution_count": 2,
   "metadata": {},
   "outputs": [
    {
     "name": "stdout",
     "output_type": "stream",
     "text": [
      "inspect_mgf_location(), input_file =  /Volumes/MSSHARE/Joonyong/KAIKO_Data/Original_mgf/Biodiversity_A_cryptum_FeTSB_anaerobic_1_01Jun16_Pippin_16-03-39.mgf\n",
      "find # spectra_locations: 7317\n",
      "  reading peptide 1000\n",
      "  reading peptide 2000\n",
      "  reading peptide 3000\n",
      "  reading peptide 4000\n",
      "  reading peptide 5000\n",
      "  reading peptide 6000\n",
      "  total peptide read 6659\n",
      "  total peptide skipped 658\n",
      "  total peptide skipped by mod 0\n",
      "  total peptide skipped by unknown AA 40\n",
      "  total peptide skipped by len 4\n",
      "  total peptide skipped by mass 614\n",
      "  total peptide skipped by mass precision 0\n",
      "  average #peaks per spectrum 179.6\n",
      "  average peptide length 16.8\n"
     ]
    }
   ],
   "source": [
    "dataset = read_mgf('/Volumes/MSSHARE/Joonyong/KAIKO_Data/Original_mgf/Alverdy_Efae_1A_lys_13Jul13_Pippin_12-12-39.mgf')"
   ]
  },
  {
   "cell_type": "code",
   "execution_count": 3,
   "metadata": {},
   "outputs": [
    {
     "data": {
      "text/plain": [
       "6659"
      ]
     },
     "execution_count": 3,
     "metadata": {},
     "output_type": "execute_result"
    }
   ],
   "source": [
    "len(dataset)"
   ]
  },
  {
   "cell_type": "code",
   "execution_count": 4,
   "metadata": {},
   "outputs": [
    {
     "data": {
      "text/plain": [
       "54568"
      ]
     },
     "execution_count": 4,
     "metadata": {},
     "output_type": "execute_result"
    }
   ],
   "source": [
    "import sys\n",
    "sys.getsizeof(dataset)"
   ]
  },
  {
   "cell_type": "code",
   "execution_count": 8,
   "metadata": {},
   "outputs": [],
   "source": [
    "import pandas as pd\n",
    "\n",
    "list_data = []\n",
    "list_labels = []\n",
    "for d in dataset:\n",
    "    temp = []\n",
    "    temp.append(str(d[0]))\n",
    "    temp.append(str(d[1]))\n",
    "    temp.append(','.join([str(s) for s in d[2]]) + ';' + ','.join([str(s) for s in d[3]]))\n",
    "    list_data.append(temp)\n",
    "    list_labels.append(','.join(d[4]))\n",
    "df_data = pd.DataFrame(list_data)\n",
    "df_labels = pd.DataFrame(list_labels)"
   ]
  },
  {
   "cell_type": "code",
   "execution_count": 6,
   "metadata": {},
   "outputs": [
    {
     "name": "stdout",
     "output_type": "stream",
     "text": [
      "54568\n",
      "Index       80\n",
      "0        53272\n",
      "1        53272\n",
      "2        53272\n",
      "dtype: int64\n"
     ]
    },
    {
     "data": {
      "text/plain": [
       "(6659, 3)"
      ]
     },
     "execution_count": 6,
     "metadata": {},
     "output_type": "execute_result"
    }
   ],
   "source": [
    "print(sys.getsizeof(df_data))\n",
    "print(df.memory_usage())\n",
    "df.shape"
   ]
  },
  {
   "cell_type": "code",
   "execution_count": null,
   "metadata": {},
   "outputs": [],
   "source": []
  },
  {
   "cell_type": "code",
   "execution_count": 22,
   "metadata": {},
   "outputs": [],
   "source": [
    "import deepdish as dd\n",
    "import numpy as np\n",
    "\n",
    "dd.io.save('test.h5', {'data': list_data, 'labels': list_labels}, compression=True)"
   ]
  },
  {
   "cell_type": "code",
   "execution_count": 23,
   "metadata": {},
   "outputs": [],
   "source": [
    "tt = dd.io.load('test.h5')"
   ]
  },
  {
   "cell_type": "code",
   "execution_count": 25,
   "metadata": {},
   "outputs": [
    {
     "name": "stdout",
     "output_type": "stream",
     "text": [
      "6659\n",
      "6659\n",
      "['2031', '1909.0504280520513', '119.02627563476562,129.1024169921875,130.1060028076172,136.06167602539062,145.09689331054688,156.7694854736328,164.85572814941406,170.10325622558594,173.0915069580078,175.1190643310547,186.12355041503906,192.22216796875,283.1388244628906,354.1733093261719,397.3297119140625,437.5796203613281,437.91693115234375,438.2517395019531,448.7451171875,455.2225646972656,458.7539367675781,474.01434326171875,474.27203369140625,495.8350830078125,531.6235961914062,548.3114624023438,556.8167114257812,557.3126220703125,568.8131103515625,569.3073120117188,577.3114013671875,577.81494140625,578.3125,584.3173828125,595.3419189453125,598.8284301757812,599.3284301757812,600.344970703125,604.349853515625,607.34326171875,607.8345947265625,612.3402099609375,624.8550415039062,625.8565063476562,626.3489990234375,626.8512573242188,633.8519287109375,634.3541870117188,646.8584594726562,647.357177734375,647.8567504882812,655.868408203125,656.3654174804688,656.8717041015625,739.9118041992188,748.4151611328125,748.9214477539062,1094.58740234375,1136.600830078125,1198.955078125;392.2457275390625,12147.2705078125,666.388916015625,823.4880981445312,972.2864990234375,361.78607177734375,417.0838317871094,456.71221923828125,444.4327697753906,6938.96533203125,2749.39990234375,362.2316589355469,3266.9853515625,705.064453125,421.1595458984375,2514.0849609375,1735.205078125,406.9606018066406,445.42236328125,577.8519897460938,402.63006591796875,934.3148803710938,581.1235961914062,4186.46337890625,817.3599243164062,485.83160400390625,1748.2828369140625,535.7135009765625,724.7904052734375,587.5978393554688,487.2419738769531,2499.495361328125,494.83868408203125,487.23291015625,582.517578125,702.2935791015625,681.7647094726562,558.9706420898438,571.6264038085938,3133.679443359375,740.2290649414062,611.374267578125,613.9937744140625,2905.38330078125,2306.8974609375,933.8587646484375,2563.092041015625,1895.78076171875,2862.70263671875,4704.8896484375,2356.06591796875,7795.02734375,2066.872802734375,536.8590698242188,464.8411560058594,488.1359558105469,565.3721923828125,663.1194458007812,1888.6258544921875,485.7593688964844']\n",
      "K,T,A,N,G,K,P,T,S,A,A,R,P,T,P,T,R,R\n"
     ]
    }
   ],
   "source": [
    "print(len(tt['data']))\n",
    "print(len(tt['labels']))\n",
    "print(tt['data'][0])\n",
    "print(tt['labels'][0])"
   ]
  }
 ],
 "metadata": {
  "kernelspec": {
   "display_name": "Python [default]",
   "language": "python",
   "name": "python3"
  },
  "language_info": {
   "codemirror_mode": {
    "name": "ipython",
    "version": 3
   },
   "file_extension": ".py",
   "mimetype": "text/x-python",
   "name": "python",
   "nbconvert_exporter": "python",
   "pygments_lexer": "ipython3",
   "version": "3.6.1"
  }
 },
 "nbformat": 4,
 "nbformat_minor": 2
}
